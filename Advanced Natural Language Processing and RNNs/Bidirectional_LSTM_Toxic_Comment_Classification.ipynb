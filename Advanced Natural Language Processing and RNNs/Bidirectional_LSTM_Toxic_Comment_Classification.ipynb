{
  "nbformat": 4,
  "nbformat_minor": 0,
  "metadata": {
    "colab": {
      "name": "Bidirectional_LSTM_Toxic_Comment_Classification.ipynb",
      "provenance": [],
      "collapsed_sections": []
    },
    "kernelspec": {
      "name": "python3",
      "display_name": "Python 3"
    },
    "language_info": {
      "name": "python"
    },
    "accelerator": "GPU",
    "gpuClass": "standard"
  },
  "cells": [
    {
      "cell_type": "code",
      "execution_count": 1,
      "metadata": {
        "id": "xksKc9IZlu44"
      },
      "outputs": [],
      "source": [
        "import os\n",
        "import sys\n",
        "import numpy as np\n",
        "import pandas as pd\n",
        "import matplotlib.pyplot as plt\n",
        "from tensorflow.keras.preprocessing.text import Tokenizer\n",
        "from tensorflow.keras.preprocessing.sequence import pad_sequences\n",
        "from tensorflow.keras.layers import Dense, Input, GlobalMaxPool1D, Dropout, Embedding, LSTM, Bidirectional\n",
        "from tensorflow.keras.models import Model\n",
        "from tensorflow.keras.optimizers import Adam\n",
        "from sklearn.metrics import roc_auc_score"
      ]
    },
    {
      "cell_type": "code",
      "source": [
        "# some config\n",
        "MAX_SEQUENCE_LENGTH = 100\n",
        "MAX_VOCAB_SIZE = 20000\n",
        "EMBEDDING_DIM = 100\n",
        "VALIDATION_SPLIT = 0.2\n",
        "BATCH_SIZE = 128\n",
        "EPOCHS = 10"
      ],
      "metadata": {
        "id": "_wxX4XYmmF3g"
      },
      "execution_count": 2,
      "outputs": []
    },
    {
      "cell_type": "code",
      "source": [
        "# load in pre-trained word vector\n",
        "print('Loading word vector...')\n",
        "word2vec = {}\n",
        "with open('/content/glove.6B.100d.txt') as f:\n",
        "  # Is just a space-separted text file in the format:\n",
        "  # word vec[0] vec[1] vec[2] ...\n",
        "  for line in f:\n",
        "    values = line.split()\n",
        "    word = values[0]\n",
        "    vec = np.asarray(values[1:], dtype='float32')\n",
        "    word2vec[word] = vec\n",
        "print('Found %s word vectors: ' %len(word2vec))"
      ],
      "metadata": {
        "colab": {
          "base_uri": "https://localhost:8080/"
        },
        "id": "iIMUFotWmPwo",
        "outputId": "72d243db-8b03-4b8a-8a6b-a6dca32cf9df"
      },
      "execution_count": 3,
      "outputs": [
        {
          "output_type": "stream",
          "name": "stdout",
          "text": [
            "Loading word vector...\n",
            "Found 6118 word vectors: \n"
          ]
        }
      ]
    },
    {
      "cell_type": "code",
      "source": [
        "# load text comments dataset\n",
        "from google.colab import drive\n",
        "drive.mount('/content/gdrive')\n",
        "\n",
        "import os \n",
        "os.environ['KAGGLE_CONFIG_DIR'] = '/content/gdrive/MyDrive/kaggle_dataset'\n",
        "\n",
        "\n",
        "path = '/content/gdrive/MyDrive/kaggle_dataset/toxic-comment'\n",
        "if not os.path.exists(path):\n",
        "    os.makedirs(path)\n",
        "\n",
        "%cd /content/gdrive/MyDrive/kaggle_dataset/toxic-comment"
      ],
      "metadata": {
        "colab": {
          "base_uri": "https://localhost:8080/"
        },
        "id": "l7fl6Wwfmc4B",
        "outputId": "746eef50-425a-4eb2-887f-bce36ddcb760"
      },
      "execution_count": 5,
      "outputs": [
        {
          "output_type": "stream",
          "name": "stdout",
          "text": [
            "Mounted at /content/gdrive\n",
            "/content/gdrive/MyDrive/kaggle_dataset/toxic-comment\n"
          ]
        }
      ]
    },
    {
      "cell_type": "code",
      "source": [
        "# if the data does not exist or want to replace it\n",
        "\n",
        "#!kaggle datasets download -d julian3833/jigsaw-toxic-comment-classification-challenge\n",
        "#!unzip jigsaw-toxic-comment-classification-challenge.zip    "
      ],
      "metadata": {
        "id": "siU8R4jHmfN5"
      },
      "execution_count": null,
      "outputs": []
    },
    {
      "cell_type": "code",
      "source": [
        "# prepare text samples and their labels\n",
        "print('loading in comments...')\n",
        "\n",
        "train = pd.read_csv('/content/gdrive/MyDrive/kaggle_dataset/toxic-comment/train.csv')\n",
        "sentences = train['comment_text'].fillna('DUMMY_VALUE').values\n",
        "possible_labels = ['toxic', 'severe_toxic', 'obscene', 'threat', 'insult', 'identity_hate']\n",
        "targets = train[possible_labels].values\n",
        "\n",
        "print('max sequence length:', max(len(s) for s in sentences))\n",
        "print('min sequence length:', min(len(s) for s in sentences))\n",
        "s = sorted(len(s) for s in sentences)\n",
        "print('median sequence length:', s[len(s) // 2])"
      ],
      "metadata": {
        "colab": {
          "base_uri": "https://localhost:8080/"
        },
        "id": "-9JQWOfEmpQP",
        "outputId": "a4c1fc3a-98a3-4583-e585-f8031b86061d"
      },
      "execution_count": 6,
      "outputs": [
        {
          "output_type": "stream",
          "name": "stdout",
          "text": [
            "loading in comments...\n",
            "max sequence length: 5000\n",
            "min sequence length: 6\n",
            "median sequence length: 205\n"
          ]
        }
      ]
    },
    {
      "cell_type": "code",
      "source": [
        "print('no of sentences in our data: %s' %len(sentences))"
      ],
      "metadata": {
        "colab": {
          "base_uri": "https://localhost:8080/"
        },
        "id": "uN058rYHm7jT",
        "outputId": "ddb5424e-31cf-40f0-930d-6475b3cad885"
      },
      "execution_count": 7,
      "outputs": [
        {
          "output_type": "stream",
          "name": "stdout",
          "text": [
            "no of sentences in our data: 159571\n"
          ]
        }
      ]
    },
    {
      "cell_type": "code",
      "source": [
        "print('first sentence:\\n', sentences[0])"
      ],
      "metadata": {
        "colab": {
          "base_uri": "https://localhost:8080/"
        },
        "id": "KLhSMIbEm-fe",
        "outputId": "7f1c7e55-5bd5-4f88-8939-8ce6373f60e2"
      },
      "execution_count": 8,
      "outputs": [
        {
          "output_type": "stream",
          "name": "stdout",
          "text": [
            "first sentence:\n",
            " Explanation\n",
            "Why the edits made under my username Hardcore Metallica Fan were reverted? They weren't vandalisms, just closure on some GAs after I voted at New York Dolls FAC. And please don't remove the template from the talk page since I'm retired now.89.205.38.27\n"
          ]
        }
      ]
    },
    {
      "cell_type": "code",
      "source": [
        "# convert the sentences(strings) into integers\n",
        "tokenizer = Tokenizer(num_words = MAX_VOCAB_SIZE) \n",
        "tokenizer.fit_on_texts(sentences)\n",
        "sequences = tokenizer.texts_to_sequences(sentences)"
      ],
      "metadata": {
        "id": "e_IcI2X_m_8E"
      },
      "execution_count": 9,
      "outputs": []
    },
    {
      "cell_type": "code",
      "source": [
        "print('tokenized first sentence:\\n', sequences[0])"
      ],
      "metadata": {
        "colab": {
          "base_uri": "https://localhost:8080/"
        },
        "id": "e9-54o4LnBwW",
        "outputId": "35925e00-c91d-4e5d-d7a4-44ebed478810"
      },
      "execution_count": 10,
      "outputs": [
        {
          "output_type": "stream",
          "name": "stdout",
          "text": [
            "tokenized first sentence:\n",
            " [688, 75, 1, 126, 130, 177, 29, 672, 4511, 12052, 1116, 86, 331, 51, 2278, 11448, 50, 6864, 15, 60, 2756, 148, 7, 2937, 34, 117, 1221, 15190, 2825, 4, 45, 59, 244, 1, 365, 31, 1, 38, 27, 143, 73, 3462, 89, 3085, 4583, 2273, 985]\n"
          ]
        }
      ]
    },
    {
      "cell_type": "code",
      "source": [
        "# get word -> interger mapping\n",
        "word2idx = tokenizer.word_index\n",
        "print('found %s unique token.' %len(word2idx))"
      ],
      "metadata": {
        "colab": {
          "base_uri": "https://localhost:8080/"
        },
        "id": "UWM6UxZlnD_y",
        "outputId": "fb206372-2e7b-41c5-ed75-ce226b41e551"
      },
      "execution_count": 11,
      "outputs": [
        {
          "output_type": "stream",
          "name": "stdout",
          "text": [
            "found 210337 unique token.\n"
          ]
        }
      ]
    },
    {
      "cell_type": "code",
      "source": [
        "# pad sequences so that we get a N(no of sentences) * T(sequence length) matrix\n",
        "data = pad_sequences(sequences, maxlen=MAX_SEQUENCE_LENGTH)\n",
        "print('Shape of data tensor:', data.shape)"
      ],
      "metadata": {
        "colab": {
          "base_uri": "https://localhost:8080/"
        },
        "id": "eLCh5NkTnGbC",
        "outputId": "da62af08-b8bf-46b3-ae15-bf523f16ef59"
      },
      "execution_count": 12,
      "outputs": [
        {
          "output_type": "stream",
          "name": "stdout",
          "text": [
            "Shape of data tensor: (159571, 100)\n"
          ]
        }
      ]
    },
    {
      "cell_type": "code",
      "source": [
        "# prepare embedding matrix\n",
        "print('filling pre-trained embedding...')\n",
        "num_words = min(MAX_VOCAB_SIZE, len(word2idx) + 1 ) \n",
        "embedding_matrix = np.zeros((num_words, EMBEDDING_DIM))   # 20000 * 100 - V * D\n",
        "for word, i in word2idx.items():\n",
        "  if i < MAX_VOCAB_SIZE:\n",
        "    embedding_vector = word2vec.get(word)\n",
        "    if embedding_vector is not None:\n",
        "      # words not found in embedding index will be zeros.\n",
        "      embedding_matrix[i] = embedding_vector"
      ],
      "metadata": {
        "colab": {
          "base_uri": "https://localhost:8080/"
        },
        "id": "GTB1xbz5nJkp",
        "outputId": "9b687561-85a7-41cc-a931-e74884eecd2d"
      },
      "execution_count": 13,
      "outputs": [
        {
          "output_type": "stream",
          "name": "stdout",
          "text": [
            "filling pre-trained embedding...\n"
          ]
        }
      ]
    },
    {
      "cell_type": "code",
      "source": [
        "# load per-trained word embeddings into an Embedding layer \n",
        "# note that we set trainable = False so as it keep embedding fixed.\n",
        "embedding_layer = Embedding(\n",
        "    num_words,\n",
        "    EMBEDDING_DIM,\n",
        "    weights = [embedding_matrix],\n",
        "    input_length = MAX_SEQUENCE_LENGTH,\n",
        "    trainable = False\n",
        ")"
      ],
      "metadata": {
        "id": "ILzbzAQrnL6m"
      },
      "execution_count": 14,
      "outputs": []
    },
    {
      "cell_type": "code",
      "source": [
        "print('Building model...')\n",
        "\n",
        "# train a 1D convnet with global maxpooling\n",
        "input_ = Input(shape=(MAX_SEQUENCE_LENGTH,))  # T\n",
        "x = embedding_layer(input_)\n",
        "#x = LSTM(15, return_sequences=True)(x)\n",
        "x = Bidirectional(LSTM(15, return_sequences=True))(x)\n",
        "x = GlobalMaxPool1D()(x)\n",
        "output = Dense(len(possible_labels), activation='sigmoid')(x)\n",
        "\n",
        "model = Model(input_, output)\n",
        "model.compile(loss='binary_crossentropy', optimizer=Adam(learning_rate=0.01), metrics=['accuracy'])\n",
        "\n",
        "\n",
        "print('Training model...')\n",
        "h = model.fit(\n",
        "    data,\n",
        "    targets,\n",
        "    batch_size=BATCH_SIZE,\n",
        "    epochs= EPOCHS,\n",
        "    validation_split=VALIDATION_SPLIT\n",
        ")"
      ],
      "metadata": {
        "colab": {
          "base_uri": "https://localhost:8080/"
        },
        "id": "URwKxQmrnOBT",
        "outputId": "b17f765d-35da-45e1-9df2-2534298ace48"
      },
      "execution_count": 19,
      "outputs": [
        {
          "output_type": "stream",
          "name": "stdout",
          "text": [
            "Building model...\n",
            "Training model...\n",
            "Epoch 1/10\n",
            "998/998 [==============================] - 19s 16ms/step - loss: 0.0972 - accuracy: 0.9788 - val_loss: 0.0860 - val_accuracy: 0.9803\n",
            "Epoch 2/10\n",
            "998/998 [==============================] - 13s 13ms/step - loss: 0.0822 - accuracy: 0.9889 - val_loss: 0.0825 - val_accuracy: 0.9411\n",
            "Epoch 3/10\n",
            "998/998 [==============================] - 12s 12ms/step - loss: 0.0792 - accuracy: 0.9868 - val_loss: 0.0809 - val_accuracy: 0.9896\n",
            "Epoch 4/10\n",
            "998/998 [==============================] - 12s 12ms/step - loss: 0.0774 - accuracy: 0.9869 - val_loss: 0.0808 - val_accuracy: 0.9835\n",
            "Epoch 5/10\n",
            "998/998 [==============================] - 12s 12ms/step - loss: 0.0758 - accuracy: 0.9853 - val_loss: 0.0791 - val_accuracy: 0.9760\n",
            "Epoch 6/10\n",
            "998/998 [==============================] - 12s 12ms/step - loss: 0.0745 - accuracy: 0.9822 - val_loss: 0.0809 - val_accuracy: 0.9200\n",
            "Epoch 7/10\n",
            "998/998 [==============================] - 12s 12ms/step - loss: 0.0735 - accuracy: 0.9775 - val_loss: 0.0792 - val_accuracy: 0.9746\n",
            "Epoch 8/10\n",
            "998/998 [==============================] - 12s 12ms/step - loss: 0.0726 - accuracy: 0.9767 - val_loss: 0.0799 - val_accuracy: 0.9934\n",
            "Epoch 9/10\n",
            "998/998 [==============================] - 12s 12ms/step - loss: 0.0719 - accuracy: 0.9830 - val_loss: 0.0790 - val_accuracy: 0.9841\n",
            "Epoch 10/10\n",
            "998/998 [==============================] - 12s 12ms/step - loss: 0.0709 - accuracy: 0.9838 - val_loss: 0.0790 - val_accuracy: 0.9895\n"
          ]
        }
      ]
    },
    {
      "cell_type": "code",
      "source": [
        "plt.plot(h.history['loss'] ,label='loss')\n",
        "plt.plot(h.history['val_loss'], label='val_loss')\n",
        "plt.legend()\n",
        "plt.show()"
      ],
      "metadata": {
        "colab": {
          "base_uri": "https://localhost:8080/",
          "height": 265
        },
        "id": "xuL_LyrkonAw",
        "outputId": "d23373b7-4dca-473f-91ac-c1e79d0d2a07"
      },
      "execution_count": 20,
      "outputs": [
        {
          "output_type": "display_data",
          "data": {
            "text/plain": [
              "<Figure size 432x288 with 1 Axes>"
            ],
            "image/png": "[encoded data removed]"
          },
          "metadata": {
            "needs_background": "light"
          }
        }
      ]
    },
    {
      "cell_type": "code",
      "source": [
        "plt.plot(h.history['accuracy'] ,label='acc')\n",
        "plt.plot(h.history['val_accuracy'], label='val_acc')\n",
        "plt.legend()\n",
        "plt.show()"
      ],
      "metadata": {
        "colab": {
          "base_uri": "https://localhost:8080/",
          "height": 265
        },
        "id": "mnl0OYChor-6",
        "outputId": "158d5845-29bf-4875-ccd2-519324f091e7"
      },
      "execution_count": 21,
      "outputs": [
        {
          "output_type": "display_data",
          "data": {
            "text/plain": [
              "<Figure size 432x288 with 1 Axes>"
            ],
            "image/png": "[encoded data removed]"
          },
          "metadata": {
            "needs_background": "light"
          }
        }
      ]
    },
    {
      "cell_type": "code",
      "source": [
        "p = model.predict(data)\n",
        "aucs = []\n",
        "for j in range(len(possible_labels)):\n",
        "  auc = roc_auc_score(targets[:, j], p[:, j])\n",
        "  aucs.append(auc)\n",
        "\n",
        "print(np.mean(aucs))"
      ],
      "metadata": {
        "colab": {
          "base_uri": "https://localhost:8080/"
        },
        "id": "fc73ZxdNot4X",
        "outputId": "a590fe46-e058-431c-9f2f-0b9f06a57576"
      },
      "execution_count": 22,
      "outputs": [
        {
          "output_type": "stream",
          "name": "stdout",
          "text": [
            "0.9601292341741875\n"
          ]
        }
      ]
    }
  ]
}