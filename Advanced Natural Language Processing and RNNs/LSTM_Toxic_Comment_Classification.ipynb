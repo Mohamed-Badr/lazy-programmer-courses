{
  "nbformat": 4,
  "nbformat_minor": 0,
  "metadata": {
    "colab": {
      "name": "LSTM_Toxic_Comment_Classification.ipynb",
      "provenance": [],
      "collapsed_sections": []
    },
    "kernelspec": {
      "name": "python3",
      "display_name": "Python 3"
    },
    "language_info": {
      "name": "python"
    },
    "accelerator": "GPU",
    "gpuClass": "standard"
  },
  "cells": [
    {
      "cell_type": "code",
      "execution_count": 17,
      "metadata": {
        "id": "xksKc9IZlu44"
      },
      "outputs": [],
      "source": [
        "import os\n",
        "import sys\n",
        "import numpy as np\n",
        "import pandas as pd\n",
        "import matplotlib.pyplot as plt\n",
        "from tensorflow.keras.preprocessing.text import Tokenizer\n",
        "from tensorflow.keras.preprocessing.sequence import pad_sequences\n",
        "from tensorflow.keras.layers import Dense, Input, GlobalMaxPool1D, Dropout, Embedding, LSTM, Bidirectional\n",
        "from tensorflow.keras.models import Model\n",
        "from tensorflow.keras.optimizers import Adam\n",
        "from sklearn.metrics import roc_auc_score"
      ]
    },
    {
      "cell_type": "code",
      "source": [
        "# some config\n",
        "MAX_SEQUENCE_LENGTH = 100\n",
        "MAX_VOCAB_SIZE = 20000\n",
        "EMBEDDING_DIM = 100\n",
        "VALIDATION_SPLIT = 0.2\n",
        "BATCH_SIZE = 128\n",
        "EPOCHS = 10"
      ],
      "metadata": {
        "id": "_wxX4XYmmF3g"
      },
      "execution_count": 4,
      "outputs": []
    },
    {
      "cell_type": "code",
      "source": [
        "# load in pre-trained word vector\n",
        "print('Loading word vector...')\n",
        "word2vec = {}\n",
        "with open('/content/glove.6B.100d.txt') as f:\n",
        "  # Is just a space-separted text file in the format:\n",
        "  # word vec[0] vec[1] vec[2] ...\n",
        "  for line in f:\n",
        "    values = line.split()\n",
        "    word = values[0]\n",
        "    vec = np.asarray(values[1:], dtype='float32')\n",
        "    word2vec[word] = vec\n",
        "print('Found %s word vectors: ' %len(word2vec))"
      ],
      "metadata": {
        "colab": {
          "base_uri": "https://localhost:8080/"
        },
        "id": "iIMUFotWmPwo",
        "outputId": "6d0a3f8d-ca53-455e-e80a-37adde5fc0d2"
      },
      "execution_count": 5,
      "outputs": [
        {
          "output_type": "stream",
          "name": "stdout",
          "text": [
            "Loading word vector...\n",
            "Found 6118 word vectors: \n"
          ]
        }
      ]
    },
    {
      "cell_type": "code",
      "source": [
        "# load text comments dataset\n",
        "from google.colab import drive\n",
        "drive.mount('/content/gdrive')\n",
        "\n",
        "import os \n",
        "os.environ['KAGGLE_CONFIG_DIR'] = '/content/gdrive/MyDrive/kaggle_dataset'\n",
        "\n",
        "\n",
        "path = '/content/gdrive/MyDrive/kaggle_dataset/toxic-comment'\n",
        "if not os.path.exists(path):\n",
        "    os.makedirs(path)\n",
        "\n",
        "%cd /content/gdrive/MyDrive/kaggle_dataset/toxic-comment"
      ],
      "metadata": {
        "colab": {
          "base_uri": "https://localhost:8080/"
        },
        "id": "l7fl6Wwfmc4B",
        "outputId": "da2344bc-4a91-4d0c-dd94-084120a29706"
      },
      "execution_count": 6,
      "outputs": [
        {
          "output_type": "stream",
          "name": "stdout",
          "text": [
            "Mounted at /content/gdrive\n",
            "/content/gdrive/MyDrive/kaggle_dataset/toxic-comment\n"
          ]
        }
      ]
    },
    {
      "cell_type": "code",
      "source": [
        "# if the data does not exist or want to replace it\n",
        "\n",
        "#!kaggle datasets download -d julian3833/jigsaw-toxic-comment-classification-challenge\n",
        "#!unzip jigsaw-toxic-comment-classification-challenge.zip    "
      ],
      "metadata": {
        "id": "siU8R4jHmfN5"
      },
      "execution_count": 7,
      "outputs": []
    },
    {
      "cell_type": "code",
      "source": [
        "# prepare text samples and their labels\n",
        "print('loading in comments...')\n",
        "\n",
        "train = pd.read_csv('/content/gdrive/MyDrive/kaggle_dataset/toxic-comment/train.csv')\n",
        "sentences = train['comment_text'].fillna('DUMMY_VALUE').values\n",
        "possible_labels = ['toxic', 'severe_toxic', 'obscene', 'threat', 'insult', 'identity_hate']\n",
        "targets = train[possible_labels].values\n",
        "\n",
        "print('max sequence length:', max(len(s) for s in sentences))\n",
        "print('min sequence length:', min(len(s) for s in sentences))\n",
        "s = sorted(len(s) for s in sentences)\n",
        "print('median sequence length:', s[len(s) // 2])"
      ],
      "metadata": {
        "colab": {
          "base_uri": "https://localhost:8080/"
        },
        "id": "-9JQWOfEmpQP",
        "outputId": "080a2fc6-3d39-42c8-9030-eef0560989e5"
      },
      "execution_count": 8,
      "outputs": [
        {
          "output_type": "stream",
          "name": "stdout",
          "text": [
            "loading in comments...\n",
            "max sequence length: 5000\n",
            "min sequence length: 6\n",
            "median sequence length: 205\n"
          ]
        }
      ]
    },
    {
      "cell_type": "code",
      "source": [
        "print('no of sentences in our data: %s' %len(sentences))"
      ],
      "metadata": {
        "colab": {
          "base_uri": "https://localhost:8080/"
        },
        "id": "uN058rYHm7jT",
        "outputId": "cfcc48ae-7a31-479e-8c3f-b27f53dcf0a3"
      },
      "execution_count": 9,
      "outputs": [
        {
          "output_type": "stream",
          "name": "stdout",
          "text": [
            "no of sentences in our data: 159571\n"
          ]
        }
      ]
    },
    {
      "cell_type": "code",
      "source": [
        "print('first sentence:\\n', sentences[0])"
      ],
      "metadata": {
        "colab": {
          "base_uri": "https://localhost:8080/"
        },
        "id": "KLhSMIbEm-fe",
        "outputId": "4d588dba-1e64-48c4-c657-da8c5d44bee7"
      },
      "execution_count": 10,
      "outputs": [
        {
          "output_type": "stream",
          "name": "stdout",
          "text": [
            "first sentence:\n",
            " Explanation\n",
            "Why the edits made under my username Hardcore Metallica Fan were reverted? They weren't vandalisms, just closure on some GAs after I voted at New York Dolls FAC. And please don't remove the template from the talk page since I'm retired now.89.205.38.27\n"
          ]
        }
      ]
    },
    {
      "cell_type": "code",
      "source": [
        "# convert the sentences(strings) into integers\n",
        "tokenizer = Tokenizer(num_words = MAX_VOCAB_SIZE) \n",
        "tokenizer.fit_on_texts(sentences)\n",
        "sequences = tokenizer.texts_to_sequences(sentences)"
      ],
      "metadata": {
        "id": "e_IcI2X_m_8E"
      },
      "execution_count": 11,
      "outputs": []
    },
    {
      "cell_type": "code",
      "source": [
        "print('tokenized first sentence:\\n', sequences[0])"
      ],
      "metadata": {
        "colab": {
          "base_uri": "https://localhost:8080/"
        },
        "id": "e9-54o4LnBwW",
        "outputId": "2359d9e1-e60d-42e4-8d91-371eb570eb1d"
      },
      "execution_count": 12,
      "outputs": [
        {
          "output_type": "stream",
          "name": "stdout",
          "text": [
            "tokenized first sentence:\n",
            " [688, 75, 1, 126, 130, 177, 29, 672, 4511, 12052, 1116, 86, 331, 51, 2278, 11448, 50, 6864, 15, 60, 2756, 148, 7, 2937, 34, 117, 1221, 15190, 2825, 4, 45, 59, 244, 1, 365, 31, 1, 38, 27, 143, 73, 3462, 89, 3085, 4583, 2273, 985]\n"
          ]
        }
      ]
    },
    {
      "cell_type": "code",
      "source": [
        "# get word -> interger mapping\n",
        "word2idx = tokenizer.word_index\n",
        "print('found %s unique token.' %len(word2idx))"
      ],
      "metadata": {
        "colab": {
          "base_uri": "https://localhost:8080/"
        },
        "id": "UWM6UxZlnD_y",
        "outputId": "5d3decf3-796e-4e57-d0fb-629af8f8e857"
      },
      "execution_count": 13,
      "outputs": [
        {
          "output_type": "stream",
          "name": "stdout",
          "text": [
            "found 210337 unique token.\n"
          ]
        }
      ]
    },
    {
      "cell_type": "code",
      "source": [
        "# pad sequences so that we get a N(no of sentences) * T(sequence length) matrix\n",
        "data = pad_sequences(sequences, maxlen=MAX_SEQUENCE_LENGTH)\n",
        "print('Shape of data tensor:', data.shape)"
      ],
      "metadata": {
        "colab": {
          "base_uri": "https://localhost:8080/"
        },
        "id": "eLCh5NkTnGbC",
        "outputId": "5bbbb076-682b-40ea-f403-15ea396dea25"
      },
      "execution_count": 14,
      "outputs": [
        {
          "output_type": "stream",
          "name": "stdout",
          "text": [
            "Shape of data tensor: (159571, 100)\n"
          ]
        }
      ]
    },
    {
      "cell_type": "code",
      "source": [
        "# prepare embedding matrix\n",
        "print('filling pre-trained embedding...')\n",
        "num_words = min(MAX_VOCAB_SIZE, len(word2idx) + 1 ) \n",
        "embedding_matrix = np.zeros((num_words, EMBEDDING_DIM))   # 20000 * 100 - V * D\n",
        "for word, i in word2idx.items():\n",
        "  if i < MAX_VOCAB_SIZE:\n",
        "    embedding_vector = word2vec.get(word)\n",
        "    if embedding_vector is not None:\n",
        "      # words not found in embedding index will be zeros.\n",
        "      embedding_matrix[i] = embedding_vector"
      ],
      "metadata": {
        "colab": {
          "base_uri": "https://localhost:8080/"
        },
        "id": "GTB1xbz5nJkp",
        "outputId": "5a00b079-2639-4207-b220-df9d071cd330"
      },
      "execution_count": 15,
      "outputs": [
        {
          "output_type": "stream",
          "name": "stdout",
          "text": [
            "filling pre-trained embedding...\n"
          ]
        }
      ]
    },
    {
      "cell_type": "code",
      "source": [
        "# load per-trained word embeddings into an Embedding layer \n",
        "# note that we set trainable = False so as it keep embedding fixed.\n",
        "embedding_layer = Embedding(\n",
        "    num_words,\n",
        "    EMBEDDING_DIM,\n",
        "    weights = [embedding_matrix],\n",
        "    input_length = MAX_SEQUENCE_LENGTH,\n",
        "    trainable = False\n",
        ")"
      ],
      "metadata": {
        "id": "ILzbzAQrnL6m"
      },
      "execution_count": 16,
      "outputs": []
    },
    {
      "cell_type": "code",
      "source": [
        "print('Building model...')\n",
        "\n",
        "# train a 1D convnet with global maxpooling\n",
        "input_ = Input(shape=(MAX_SEQUENCE_LENGTH,))  # T\n",
        "x = embedding_layer(input_)\n",
        "x = LSTM(15, return_sequences=True)(x)\n",
        "#x = Bidirectional(LSTM(15, return_sequences=True))(x)\n",
        "x = GlobalMaxPool1D()(x)\n",
        "output = Dense(len(possible_labels), activation='sigmoid')(x)\n",
        "\n",
        "model = Model(input_, output)\n",
        "model.compile(loss='binary_crossentropy', optimizer=Adam(learning_rate=0.01), metrics=['accuracy'])\n",
        "\n",
        "\n",
        "print('Training model...')\n",
        "h = model.fit(\n",
        "    data,\n",
        "    targets,\n",
        "    batch_size=BATCH_SIZE,\n",
        "    epochs= EPOCHS,\n",
        "    validation_split=VALIDATION_SPLIT\n",
        ")"
      ],
      "metadata": {
        "colab": {
          "base_uri": "https://localhost:8080/"
        },
        "id": "URwKxQmrnOBT",
        "outputId": "ea96e602-af6b-44c2-a57b-ec11e479edb2"
      },
      "execution_count": 18,
      "outputs": [
        {
          "output_type": "stream",
          "name": "stdout",
          "text": [
            "Building model...\n",
            "Training model...\n",
            "Epoch 1/10\n",
            "998/998 [==============================] - 17s 10ms/step - loss: 0.1071 - accuracy: 0.9803 - val_loss: 0.0896 - val_accuracy: 0.9941\n",
            "Epoch 2/10\n",
            "998/998 [==============================] - 12s 12ms/step - loss: 0.0873 - accuracy: 0.9941 - val_loss: 0.0854 - val_accuracy: 0.9940\n",
            "Epoch 3/10\n",
            "998/998 [==============================] - 11s 11ms/step - loss: 0.0838 - accuracy: 0.9938 - val_loss: 0.0839 - val_accuracy: 0.9941\n",
            "Epoch 4/10\n",
            "998/998 [==============================] - 9s 9ms/step - loss: 0.0818 - accuracy: 0.9937 - val_loss: 0.0848 - val_accuracy: 0.9936\n",
            "Epoch 5/10\n",
            "998/998 [==============================] - 8s 8ms/step - loss: 0.0803 - accuracy: 0.9937 - val_loss: 0.0822 - val_accuracy: 0.9941\n",
            "Epoch 6/10\n",
            "998/998 [==============================] - 8s 8ms/step - loss: 0.0792 - accuracy: 0.9927 - val_loss: 0.0817 - val_accuracy: 0.9929\n",
            "Epoch 7/10\n",
            "998/998 [==============================] - 8s 8ms/step - loss: 0.0782 - accuracy: 0.9933 - val_loss: 0.0816 - val_accuracy: 0.9922\n",
            "Epoch 8/10\n",
            "998/998 [==============================] - 8s 8ms/step - loss: 0.0777 - accuracy: 0.9929 - val_loss: 0.0815 - val_accuracy: 0.9930\n",
            "Epoch 9/10\n",
            "998/998 [==============================] - 8s 8ms/step - loss: 0.0771 - accuracy: 0.9929 - val_loss: 0.0831 - val_accuracy: 0.9938\n",
            "Epoch 10/10\n",
            "998/998 [==============================] - 8s 8ms/step - loss: 0.0766 - accuracy: 0.9921 - val_loss: 0.0816 - val_accuracy: 0.9933\n"
          ]
        }
      ]
    },
    {
      "cell_type": "code",
      "source": [
        "plt.plot(h.history['loss'] ,label='loss')\n",
        "plt.plot(h.history['val_loss'], label='val_loss')\n",
        "plt.legend()\n",
        "plt.show()"
      ],
      "metadata": {
        "colab": {
          "base_uri": "https://localhost:8080/",
          "height": 265
        },
        "id": "xuL_LyrkonAw",
        "outputId": "344df339-7794-4100-be58-9141a8d3bc91"
      },
      "execution_count": 19,
      "outputs": [
        {
          "output_type": "display_data",
          "data": {
            "text/plain": [
              "<Figure size 432x288 with 1 Axes>"
            ],
            "image/png": "[encoded data removed]"
          },
          "metadata": {
            "needs_background": "light"
          }
        }
      ]
    },
    {
      "cell_type": "code",
      "source": [
        "plt.plot(h.history['accuracy'] ,label='acc')\n",
        "plt.plot(h.history['val_accuracy'], label='val_acc')\n",
        "plt.legend()\n",
        "plt.show()"
      ],
      "metadata": {
        "colab": {
          "base_uri": "https://localhost:8080/",
          "height": 265
        },
        "id": "mnl0OYChor-6",
        "outputId": "7371c6d6-c34e-451f-d784-ea0ba7d3330e"
      },
      "execution_count": 20,
      "outputs": [
        {
          "output_type": "display_data",
          "data": {
            "text/plain": [
              "<Figure size 432x288 with 1 Axes>"
            ],
            "image/png": "[encoded data removed]"
          },
          "metadata": {
            "needs_background": "light"
          }
        }
      ]
    },
    {
      "cell_type": "code",
      "source": [
        "p = model.predict(data)\n",
        "aucs = []\n",
        "for j in range(len(possible_labels)):\n",
        "  auc = roc_auc_score(targets[:, j], p[:, j])\n",
        "  aucs.append(auc)\n",
        "\n",
        "print(np.mean(aucs))"
      ],
      "metadata": {
        "colab": {
          "base_uri": "https://localhost:8080/"
        },
        "id": "fc73ZxdNot4X",
        "outputId": "a4261e82-a626-4f8a-d7c2-fbce386476bb"
      },
      "execution_count": 21,
      "outputs": [
        {
          "output_type": "stream",
          "name": "stdout",
          "text": [
            "0.9506347215680616\n"
          ]
        }
      ]
    },
    {
      "cell_type": "code",
      "source": [
        ""
      ],
      "metadata": {
        "id": "UR3RZW2govwN"
      },
      "execution_count": null,
      "outputs": []
    }
  ]
}