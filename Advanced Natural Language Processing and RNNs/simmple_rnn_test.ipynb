{
  "nbformat": 4,
  "nbformat_minor": 0,
  "metadata": {
    "colab": {
      "name": "simmple_rnn_test.ipynb",
      "provenance": [],
      "collapsed_sections": []
    },
    "kernelspec": {
      "name": "python3",
      "display_name": "Python 3"
    },
    "language_info": {
      "name": "python"
    },
    "accelerator": "GPU",
    "gpuClass": "standard"
  },
  "cells": [
    {
      "cell_type": "code",
      "execution_count": 1,
      "metadata": {
        "id": "L99Y-G76pt5g"
      },
      "outputs": [],
      "source": [
        "from keras.models import Model\n",
        "from keras.layers import Input, LSTM, GRU\n",
        "import numpy as np\n",
        "import matplotlib.pyplot as plt"
      ]
    },
    {
      "cell_type": "code",
      "source": [
        "T = 8   # sequence length \n",
        "D = 2   # input Dimensionality\n",
        "M = 3   # hidden layer size"
      ],
      "metadata": {
        "id": "fNf6e38Zp9ks"
      },
      "execution_count": 2,
      "outputs": []
    },
    {
      "cell_type": "code",
      "source": [
        "# create one sample of size T * D\n",
        "X = np.random.randn(1, T, D)"
      ],
      "metadata": {
        "id": "7SVEMmipzkp_"
      },
      "execution_count": 3,
      "outputs": []
    },
    {
      "cell_type": "code",
      "source": [
        "def lstm1():\n",
        "  input_ = Input( shape=(T, D)  )\n",
        "  rnn = LSTM(M, return_state=True)\n",
        "  x = rnn(input_)\n",
        "\n",
        "  model = Model(inputs=input_, outputs=x)\n",
        "  # note that lstm has 2 states (hidden state, cell state)\n",
        "  o, h, c = model.predict(X)\n",
        "  o, h, c = model.predict(X)\n",
        "  print('output from lstm:', o, '  ---  output shape:', o.shape)    # 1 * M\n",
        "  print('hiddin state:', h, '  ---  hidden state shape:', h.shape)  # 1 * M\n",
        "  print('cell state:', c, '  ---  cell state shape:', c.shape)      # 1 * M"
      ],
      "metadata": {
        "id": "33WkSVg05_Cr"
      },
      "execution_count": 17,
      "outputs": []
    },
    {
      "cell_type": "code",
      "source": [
        "def lstm2():\n",
        "  input_ = Input( shape=(T, D)  )\n",
        "  rnn = LSTM(M, return_state=True, return_sequences=True)\n",
        "  x = rnn(input_)\n",
        "\n",
        "  model = Model(inputs=input_, outputs=x)\n",
        "  # note that lstm has 2 states (hidden state, cell state)\n",
        "  o, h, c = model.predict(X)\n",
        "  print('output from lstm:', o, '  ---  output shape:', o.shape)    # 1 * T * M\n",
        "  print('hiddin state:', h, '  ---  hidden state shape:', h.shape)  # 1 * M\n",
        "  print('cell state:', c, '  ---  cell state shape:', c.shape)      # 1 * M"
      ],
      "metadata": {
        "id": "DbCR1cUu7qE9"
      },
      "execution_count": 19,
      "outputs": []
    },
    {
      "cell_type": "code",
      "source": [
        "def gru1():\n",
        "  input_ = Input( shape=(T, D)  )\n",
        "  rnn = GRU(M, return_state=True)\n",
        "  x = rnn(input_)\n",
        "\n",
        "  model = Model(inputs=input_, outputs=x)\n",
        "  # note that gru has one states (hidden state)\n",
        "  o, h = model.predict(X)\n",
        "  print('output from gru:', o, '  ---  output shape:', o.shape)     # 1 * M\n",
        "  print('hiddin state:', h, '  ---  hidden state shape:', h.shape)  # 1 * M"
      ],
      "metadata": {
        "id": "yIyPaEsb79pU"
      },
      "execution_count": 20,
      "outputs": []
    },
    {
      "cell_type": "code",
      "source": [
        "def gru2():\n",
        "  input_ = Input( shape=(T, D)  )\n",
        "  rnn = GRU(M, return_state=True, return_sequences=True)\n",
        "  x = rnn(input_)\n",
        "\n",
        "  model = Model(inputs=input_, outputs=x)\n",
        "  # note that gru has one states (hidden state)\n",
        "  o, h = model.predict(X)\n",
        "  print('output from gru:', o, '  ---  output shape:', o.shape)     # 1 * T * M\n",
        "  print('hiddin state:', h, '  ---  hidden state shape:', h.shape)  # 1 * M"
      ],
      "metadata": {
        "id": "VVTGbUyt8Ri5"
      },
      "execution_count": 21,
      "outputs": []
    },
    {
      "cell_type": "code",
      "source": [
        "# note that the output of the lstm is the same as hidden state o = h\n",
        "print(\"lstm1: \")\n",
        "lstm1()"
      ],
      "metadata": {
        "colab": {
          "base_uri": "https://localhost:8080/"
        },
        "id": "AijUVu9O8Zi6",
        "outputId": "d37b19c6-1c12-4d54-d6cd-caa287b7889f"
      },
      "execution_count": 22,
      "outputs": [
        {
          "output_type": "stream",
          "name": "stdout",
          "text": [
            "lstm1: \n",
            "WARNING:tensorflow:6 out of the last 8 calls to <function Model.make_predict_function.<locals>.predict_function at 0x7f8d859fcf80> triggered tf.function retracing. Tracing is expensive and the excessive number of tracings could be due to (1) creating @tf.function repeatedly in a loop, (2) passing tensors with different shapes, (3) passing Python objects instead of tensors. For (1), please define your @tf.function outside of the loop. For (2), @tf.function has experimental_relax_shapes=True option that relaxes argument shapes that can avoid unnecessary retracing. For (3), please refer to https://www.tensorflow.org/guide/function#controlling_retracing and https://www.tensorflow.org/api_docs/python/tf/function for  more details.\n",
            "output from lstm: [[ 0.26827934 -0.04583582 -0.00368152]]   ---  output shape: (1, 3)\n",
            "hiddin state: [[ 0.26827934 -0.04583582 -0.00368152]]   ---  hidden state shape: (1, 3)\n",
            "cell state: [[ 0.5424243  -0.08238004 -0.00850592]]   ---  cell state shape: (1, 3)\n"
          ]
        }
      ]
    },
    {
      "cell_type": "code",
      "source": [
        "# note that the last output of the lstm is the same as hidden state o = h\n",
        "# h can represent final hidden state\n",
        "print(\"lstm2: \")\n",
        "lstm2()"
      ],
      "metadata": {
        "colab": {
          "base_uri": "https://localhost:8080/"
        },
        "id": "gx2RwHWo8wtM",
        "outputId": "c77510b0-4866-47c2-9729-e63dd2c9d06d"
      },
      "execution_count": 24,
      "outputs": [
        {
          "output_type": "stream",
          "name": "stdout",
          "text": [
            "lstm2: \n",
            "output from lstm: [[[ 0.16872203 -0.18486582  0.14565213]\n",
            "  [ 0.2127605  -0.22613025  0.20254228]\n",
            "  [ 0.09995212 -0.19356297  0.17493823]\n",
            "  [ 0.07206473 -0.19600245  0.23357859]\n",
            "  [-0.00242768 -0.16893849  0.23150197]\n",
            "  [ 0.10649157 -0.30267763  0.11773311]\n",
            "  [ 0.19319306 -0.35885966  0.06553325]\n",
            "  [ 0.13764481 -0.23675025  0.11594554]]]   ---  output shape: (1, 8, 3)\n",
            "hiddin state: [[ 0.13764481 -0.23675025  0.11594554]]   ---  hidden state shape: (1, 3)\n",
            "cell state: [[ 0.26894858 -0.607115    0.2768499 ]]   ---  cell state shape: (1, 3)\n"
          ]
        }
      ]
    },
    {
      "cell_type": "code",
      "source": [
        "# note that the output of the gru is the same as hidden state o = h\n",
        "print(\"gru1: \")\n",
        "gru1()"
      ],
      "metadata": {
        "colab": {
          "base_uri": "https://localhost:8080/"
        },
        "id": "IeeZXXyG-A5O",
        "outputId": "f6f7f1d2-a488-4920-9e40-e0677f96e7b0"
      },
      "execution_count": 25,
      "outputs": [
        {
          "output_type": "stream",
          "name": "stdout",
          "text": [
            "gru1: \n",
            "output from gru: [[ 0.01974733 -0.15589392 -0.41079798]]   ---  output shape: (1, 3)\n",
            "hiddin state: [[ 0.01974733 -0.15589392 -0.41079798]]   ---  hidden state shape: (1, 3)\n"
          ]
        }
      ]
    },
    {
      "cell_type": "code",
      "source": [
        "# note that the last output of the gru is the same as hidden state o = h\n",
        "# h can represent final hidden state\n",
        "print(\"gru2: \")\n",
        "gru2()"
      ],
      "metadata": {
        "colab": {
          "base_uri": "https://localhost:8080/"
        },
        "id": "Bu5QT-tJ-OPL",
        "outputId": "45dab5dc-e974-4c12-8a7c-67401c0b8b04"
      },
      "execution_count": 26,
      "outputs": [
        {
          "output_type": "stream",
          "name": "stdout",
          "text": [
            "gru2: \n",
            "output from gru: [[[ 0.0895775   0.21014312 -0.39184043]\n",
            "  [ 0.05880295  0.344826   -0.54534066]\n",
            "  [-0.07368715  0.28666133 -0.31331024]\n",
            "  [-0.04431956  0.31364888 -0.42130035]\n",
            "  [-0.07757439  0.28808144 -0.37538788]\n",
            "  [-0.11764138 -0.09011286  0.12564448]\n",
            "  [-0.07954364 -0.2712819  -0.09384297]\n",
            "  [ 0.00261473 -0.02355063 -0.22192647]]]   ---  output shape: (1, 8, 3)\n",
            "hiddin state: [[ 0.00261473 -0.02355063 -0.22192647]]   ---  hidden state shape: (1, 3)\n"
          ]
        }
      ]
    },
    {
      "cell_type": "code",
      "source": [
        ""
      ],
      "metadata": {
        "id": "Un8nTPWe-Rfg"
      },
      "execution_count": null,
      "outputs": []
    }
  ]
}