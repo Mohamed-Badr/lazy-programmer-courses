{
  "nbformat": 4,
  "nbformat_minor": 0,
  "metadata": {
    "colab": {
      "name": "CNN_Toxic_Comment_Classification.ipynb",
      "provenance": []
    },
    "kernelspec": {
      "name": "python3",
      "display_name": "Python 3"
    },
    "language_info": {
      "name": "python"
    },
    "accelerator": "GPU",
    "gpuClass": "standard"
  },
  "cells": [
    {
      "cell_type": "code",
      "execution_count": null,
      "metadata": {
        "id": "1BuzpbWMGVy-"
      },
      "outputs": [],
      "source": [
        "import os\n",
        "import sys\n",
        "import numpy as np\n",
        "import pandas as pd\n",
        "import matplotlib.pyplot as plt\n",
        "from tensorflow.keras.preprocessing.text import Tokenizer\n",
        "from tensorflow.keras.preprocessing.sequence import pad_sequences\n",
        "from tensorflow.keras.layers import Dense, Input, GlobalMaxPooling1D, Conv1D, MaxPooling1D, Embedding\n",
        "from tensorflow.keras.models import Model\n",
        "from sklearn.metrics import roc_auc_score"
      ]
    },
    {
      "cell_type": "code",
      "source": [
        "# some config\n",
        "MAX_SEQUENCE_LENGTH = 100\n",
        "MAX_VOCAB_SIZE = 20000\n",
        "EMBEDDING_DIM = 100\n",
        "VALIDATION_SPLIT = 0.2\n",
        "BATCH_SIZE = 128\n",
        "EPOCHS = 10"
      ],
      "metadata": {
        "id": "1CTp69LrGZiF"
      },
      "execution_count": null,
      "outputs": []
    },
    {
      "cell_type": "code",
      "source": [
        "# load in pre-trained word vector\n",
        "print('Loading word vector...')\n",
        "word2vec = {}\n",
        "with open('/content/glove.6B.100d.txt') as f:\n",
        "  # Is just a space-separted text file in the format:\n",
        "  # word vec[0] vec[1] vec[2] ...\n",
        "  for line in f:\n",
        "    values = line.split()\n",
        "    word = values[0]\n",
        "    vec = np.asarray(values[1:], dtype='float32')\n",
        "    word2vec[word] = vec\n",
        "print('Found %s word vectors: ' %len(word2vec))    "
      ],
      "metadata": {
        "colab": {
          "base_uri": "https://localhost:8080/"
        },
        "id": "TsotwhcgGbDW",
        "outputId": "aae19deb-d18b-4c54-c4c9-9c4a169222a6"
      },
      "execution_count": null,
      "outputs": [
        {
          "output_type": "stream",
          "name": "stdout",
          "text": [
            "Loading word vector...\n",
            "Found 2434 word vectors: \n"
          ]
        }
      ]
    },
    {
      "cell_type": "code",
      "source": [
        "# load text comments dataset\n",
        "from google.colab import drive\n",
        "drive.mount('/content/gdrive')\n",
        "\n",
        "import os \n",
        "os.environ['KAGGLE_CONFIG_DIR'] = '/content/gdrive/MyDrive/kaggle_dataset'\n",
        "\n",
        "\n",
        "path = '/content/gdrive/MyDrive/kaggle_dataset/toxic-comment'\n",
        "if not os.path.exists(path):\n",
        "    os.makedirs(path)\n",
        "\n",
        "%cd /content/gdrive/MyDrive/kaggle_dataset/toxic-comment"
      ],
      "metadata": {
        "colab": {
          "base_uri": "https://localhost:8080/"
        },
        "id": "SXoOgi14rjLO",
        "outputId": "fe415d6e-a7da-4233-f909-71a91e9d4fe2"
      },
      "execution_count": null,
      "outputs": [
        {
          "output_type": "stream",
          "name": "stdout",
          "text": [
            "Drive already mounted at /content/gdrive; to attempt to forcibly remount, call drive.mount(\"/content/gdrive\", force_remount=True).\n",
            "/content/gdrive/MyDrive/kaggle_dataset/toxic-comment\n"
          ]
        }
      ]
    },
    {
      "cell_type": "code",
      "source": [
        "# if the data does not exist or want to replace it\n",
        "\n",
        "#!kaggle datasets download -d julian3833/jigsaw-toxic-comment-classification-challenge\n",
        "#!unzip jigsaw-toxic-comment-classification-challenge.zip    "
      ],
      "metadata": {
        "colab": {
          "base_uri": "https://localhost:8080/"
        },
        "id": "CsP1LpuxRkC-",
        "outputId": "964109fc-a94a-48f2-f9b0-7a567604c3eb"
      },
      "execution_count": null,
      "outputs": [
        {
          "output_type": "stream",
          "name": "stdout",
          "text": [
            "jigsaw-toxic-comment-classification-challenge.zip: Skipping, found more recently modified local copy (use --force to force download)\n",
            "Archive:  jigsaw-toxic-comment-classification-challenge.zip\n",
            "replace sample_submission.csv? [y]es, [n]o, [A]ll, [N]one, [r]ename: yes\n",
            "  inflating: sample_submission.csv   \n",
            "replace test.csv? [y]es, [n]o, [A]ll, [N]one, [r]ename: y\n",
            "  inflating: test.csv                \n",
            "replace test_labels.csv? [y]es, [n]o, [A]ll, [N]one, [r]ename: y\n",
            "  inflating: test_labels.csv         \n",
            "replace train.csv? [y]es, [n]o, [A]ll, [N]one, [r]ename: y\n",
            "  inflating: train.csv               \n"
          ]
        }
      ]
    },
    {
      "cell_type": "code",
      "source": [
        "# prepare text samples and their labels\n",
        "print('loading in comments...')\n",
        "\n",
        "train = pd.read_csv('/content/gdrive/MyDrive/kaggle_dataset/toxic-comment/train.csv')\n",
        "sentences = train['comment_text'].fillna('DUMMY_VALUE').values\n",
        "possible_labels = ['toxic', 'severe_toxic', 'obscene', 'threat', 'insult', 'identity_hate']\n",
        "targets = train[possible_labels].values\n",
        "\n",
        "print('max sequence length:', max(len(s) for s in sentences))\n",
        "print('min sequence length:', min(len(s) for s in sentences))\n",
        "s = sorted(len(s) for s in sentences)\n",
        "print('median sequence length:', s[len(s) // 2])"
      ],
      "metadata": {
        "colab": {
          "base_uri": "https://localhost:8080/"
        },
        "id": "kgMddBG8S6W2",
        "outputId": "1d60db20-52e6-4f04-9019-bc2fb83b1f35"
      },
      "execution_count": null,
      "outputs": [
        {
          "output_type": "stream",
          "name": "stdout",
          "text": [
            "loading in comments...\n",
            "max sequence length: 5000\n",
            "min sequence length: 6\n",
            "median sequence length: 205\n"
          ]
        }
      ]
    },
    {
      "cell_type": "code",
      "source": [
        "print('no of sentences in our data: %s' %len(sentences))"
      ],
      "metadata": {
        "colab": {
          "base_uri": "https://localhost:8080/"
        },
        "id": "jOnZ3yE-qXY6",
        "outputId": "e7e56daf-d42a-4bcd-c183-bc63bbdea1e5"
      },
      "execution_count": null,
      "outputs": [
        {
          "output_type": "stream",
          "name": "stdout",
          "text": [
            "no of sentences in our data: 159571\n"
          ]
        }
      ]
    },
    {
      "cell_type": "code",
      "source": [
        "print('first sentence:\\n', sentences[0])"
      ],
      "metadata": {
        "colab": {
          "base_uri": "https://localhost:8080/"
        },
        "id": "3qiHmxn-W1O1",
        "outputId": "6ef0c6a1-8e3f-4b42-b70d-a57909a648af"
      },
      "execution_count": null,
      "outputs": [
        {
          "output_type": "stream",
          "name": "stdout",
          "text": [
            "first sentence:\n",
            " Explanation\n",
            "Why the edits made under my username Hardcore Metallica Fan were reverted? They weren't vandalisms, just closure on some GAs after I voted at New York Dolls FAC. And please don't remove the template from the talk page since I'm retired now.89.205.38.27\n"
          ]
        }
      ]
    },
    {
      "cell_type": "code",
      "source": [
        "# convert the sentences(strings) into integers\n",
        "tokenizer = Tokenizer(num_words = MAX_VOCAB_SIZE) \n",
        "tokenizer.fit_on_texts(sentences)\n",
        "sequences = tokenizer.texts_to_sequences(sentences)"
      ],
      "metadata": {
        "id": "7ZWD6fsSVt6G"
      },
      "execution_count": null,
      "outputs": []
    },
    {
      "cell_type": "code",
      "source": [
        "print('tokenized first sentence:\\n', sequences[0])"
      ],
      "metadata": {
        "colab": {
          "base_uri": "https://localhost:8080/"
        },
        "id": "_rIvQsyYWcQG",
        "outputId": "eb97af2b-1836-4b4b-c7cd-d960227d16d5"
      },
      "execution_count": null,
      "outputs": [
        {
          "output_type": "stream",
          "name": "stdout",
          "text": [
            "tokenized first sentence:\n",
            " [688, 75, 1, 126, 130, 177, 29, 672, 4511, 12052, 1116, 86, 331, 51, 2278, 11448, 50, 6864, 15, 60, 2756, 148, 7, 2937, 34, 117, 1221, 15190, 2825, 4, 45, 59, 244, 1, 365, 31, 1, 38, 27, 143, 73, 3462, 89, 3085, 4583, 2273, 985]\n"
          ]
        }
      ]
    },
    {
      "cell_type": "code",
      "source": [
        "# get word -> interger mapping\n",
        "word2idx = tokenizer.word_index\n",
        "print('found %s unique token.' %len(word2idx))"
      ],
      "metadata": {
        "colab": {
          "base_uri": "https://localhost:8080/"
        },
        "id": "ZsLME5BWoJTs",
        "outputId": "9fa80402-ae55-472b-ecdf-4aac3285feb6"
      },
      "execution_count": null,
      "outputs": [
        {
          "output_type": "stream",
          "name": "stdout",
          "text": [
            "found 210337 unique token.\n"
          ]
        }
      ]
    },
    {
      "cell_type": "code",
      "source": [
        "# pad sequences so that we get a N(no of sentences) * T(sequence length) matrix\n",
        "data = pad_sequences(sequences, maxlen=MAX_SEQUENCE_LENGTH)\n",
        "print('Shape of data tensor:', data.shape)"
      ],
      "metadata": {
        "colab": {
          "base_uri": "https://localhost:8080/"
        },
        "id": "RCTfY81hptWH",
        "outputId": "3367fbb9-7583-4aab-c74e-cdcb565a73ec"
      },
      "execution_count": null,
      "outputs": [
        {
          "output_type": "stream",
          "name": "stdout",
          "text": [
            "Shape of data tensor: (159571, 100)\n"
          ]
        }
      ]
    },
    {
      "cell_type": "code",
      "source": [
        "# prepare embedding matrix\n",
        "print('filling pre-trained embedding...')\n",
        "num_words = min(MAX_VOCAB_SIZE, len(word2idx) + 1 ) \n",
        "embedding_matrix = np.zeros((num_words, EMBEDDING_DIM))   # 20000 * 100 - V * D\n",
        "for word, i in word2idx.items():\n",
        "  if i < MAX_VOCAB_SIZE:\n",
        "    embedding_vector = word2vec.get(word)\n",
        "    if embedding_vector is not None:\n",
        "      # words not found in embedding index will be zeros.\n",
        "      embedding_matrix[i] = embedding_vector"
      ],
      "metadata": {
        "colab": {
          "base_uri": "https://localhost:8080/"
        },
        "id": "0kBsYyNYrmjo",
        "outputId": "c7590f97-05da-4b63-b811-4eab4a5c488a"
      },
      "execution_count": null,
      "outputs": [
        {
          "output_type": "stream",
          "name": "stdout",
          "text": [
            "filling pre-trained embedding...\n"
          ]
        }
      ]
    },
    {
      "cell_type": "code",
      "source": [
        "# load per-trained word embeddings into an Embedding layer \n",
        "# note that we set trainable = False so as it keep embedding fixed.\n",
        "embedding_layer = Embedding(\n",
        "    num_words,\n",
        "    EMBEDDING_DIM,\n",
        "    weights = [embedding_matrix],\n",
        "    input_length = MAX_SEQUENCE_LENGTH,\n",
        "    trainable = False\n",
        ")"
      ],
      "metadata": {
        "id": "zwpVxMeFvLJj"
      },
      "execution_count": 31,
      "outputs": []
    },
    {
      "cell_type": "code",
      "source": [
        "print('Building model...')\n",
        "\n",
        "# train a 1D convnet with global maxpooling\n",
        "input_ = Input(shape=(MAX_SEQUENCE_LENGTH,))  # T\n",
        "x = embedding_layer(input_)\n",
        "x = Conv1D(128, 3, activation='relu')(x)\n",
        "x = MaxPooling1D(3)(x)\n",
        "x = Conv1D(128, 3, activation='relu')(x)\n",
        "x = MaxPooling1D(3)(x)\n",
        "x = Conv1D(128, 3, activation='relu')(x)\n",
        "x = GlobalMaxPooling1D()(x)\n",
        "x = Dense(128, activation='relu')(x)\n",
        "output = Dense(len(possible_labels), activation='sigmoid')(x)\n",
        "\n",
        "model = Model(input_, output)\n",
        "model.compile(loss='binary_crossentropy', optimizer='rmsprop', metrics=['accuracy'])\n",
        "\n",
        "\n",
        "print('Training model...')\n",
        "h = model.fit(\n",
        "    data,\n",
        "    targets,\n",
        "    batch_size=BATCH_SIZE,\n",
        "    epochs= EPOCHS,\n",
        "    validation_split=VALIDATION_SPLIT\n",
        ")"
      ],
      "metadata": {
        "colab": {
          "base_uri": "https://localhost:8080/"
        },
        "id": "_9p6RLSZxRje",
        "outputId": "812d1d34-5a4f-448d-ecc6-6bce1988689f"
      },
      "execution_count": 32,
      "outputs": [
        {
          "output_type": "stream",
          "name": "stdout",
          "text": [
            "Building model...\n",
            "Training model...\n",
            "Epoch 1/10\n",
            "998/998 [==============================] - 21s 7ms/step - loss: 0.1466 - accuracy: 0.9941 - val_loss: 0.1456 - val_accuracy: 0.9940\n",
            "Epoch 2/10\n",
            "998/998 [==============================] - 6s 6ms/step - loss: 0.1422 - accuracy: 0.9942 - val_loss: 0.1413 - val_accuracy: 0.9941\n",
            "Epoch 3/10\n",
            "998/998 [==============================] - 6s 6ms/step - loss: 0.1419 - accuracy: 0.9942 - val_loss: 0.1412 - val_accuracy: 0.9941\n",
            "Epoch 4/10\n",
            "998/998 [==============================] - 7s 7ms/step - loss: 0.1417 - accuracy: 0.9940 - val_loss: 0.1465 - val_accuracy: 0.9941\n",
            "Epoch 5/10\n",
            "998/998 [==============================] - 7s 7ms/step - loss: 0.1415 - accuracy: 0.9941 - val_loss: 0.1416 - val_accuracy: 0.9941\n",
            "Epoch 6/10\n",
            "998/998 [==============================] - 6s 6ms/step - loss: 0.1414 - accuracy: 0.9939 - val_loss: 0.1414 - val_accuracy: 0.9936\n",
            "Epoch 7/10\n",
            "998/998 [==============================] - 6s 6ms/step - loss: 0.1413 - accuracy: 0.9940 - val_loss: 0.1428 - val_accuracy: 0.9941\n",
            "Epoch 8/10\n",
            "998/998 [==============================] - 6s 6ms/step - loss: 0.1411 - accuracy: 0.9941 - val_loss: 0.1421 - val_accuracy: 0.9933\n",
            "Epoch 9/10\n",
            "998/998 [==============================] - 6s 6ms/step - loss: 0.1412 - accuracy: 0.9940 - val_loss: 0.1417 - val_accuracy: 0.9941\n",
            "Epoch 10/10\n",
            "998/998 [==============================] - 6s 6ms/step - loss: 0.1411 - accuracy: 0.9941 - val_loss: 0.1414 - val_accuracy: 0.9940\n"
          ]
        }
      ]
    },
    {
      "cell_type": "code",
      "source": [
        "plt.plot(h.history['loss'] ,label='loss')\n",
        "plt.plot(h.history['val_loss'], label='val_loss')\n",
        "plt.legend()\n",
        "plt.show()"
      ],
      "metadata": {
        "colab": {
          "base_uri": "https://localhost:8080/",
          "height": 265
        },
        "id": "5VFNEk3E0enj",
        "outputId": "7867d626-8ed6-4186-bf47-9d28e749263f"
      },
      "execution_count": 33,
      "outputs": [
        {
          "output_type": "display_data",
          "data": {
            "text/plain": [
              "<Figure size 432x288 with 1 Axes>"
            ],
            "image/png": "[encoded data removed]"
          },
          "metadata": {
            "needs_background": "light"
          }
        }
      ]
    },
    {
      "cell_type": "code",
      "source": [
        "plt.plot(h.history['accuracy'] ,label='acc')\n",
        "plt.plot(h.history['val_accuracy'], label='val_acc')\n",
        "plt.legend()\n",
        "plt.show()"
      ],
      "metadata": {
        "colab": {
          "base_uri": "https://localhost:8080/",
          "height": 266
        },
        "id": "EKqoyDin1X3r",
        "outputId": "2d1920b7-3d7a-4f5c-b643-bd54d3d9996b"
      },
      "execution_count": 35,
      "outputs": [
        {
          "output_type": "display_data",
          "data": {
            "text/plain": [
              "<Figure size 432x288 with 1 Axes>"
            ],
            "image/png": "[encoded data removed]"
          },
          "metadata": {
            "needs_background": "light"
          }
        }
      ]
    },
    {
      "cell_type": "code",
      "source": [
        "p = model.predict(data)\n",
        "aucs = []\n",
        "for j in range(len(possible_labels)):\n",
        "  auc = roc_auc_score(targets[:, j], p[:, j])\n",
        "  aucs.append(auc)\n",
        "\n",
        "print(np.mean(aucs))"
      ],
      "metadata": {
        "colab": {
          "base_uri": "https://localhost:8080/"
        },
        "id": "DOtKtiGV1etO",
        "outputId": "cf84f185-c79d-4689-88ad-0ab44ceee470"
      },
      "execution_count": 36,
      "outputs": [
        {
          "output_type": "stream",
          "name": "stdout",
          "text": [
            "0.5038494904311248\n"
          ]
        }
      ]
    },
    {
      "cell_type": "code",
      "source": [
        ""
      ],
      "metadata": {
        "id": "mxQrP8-F22RG"
      },
      "execution_count": null,
      "outputs": []
    }
  ]
}