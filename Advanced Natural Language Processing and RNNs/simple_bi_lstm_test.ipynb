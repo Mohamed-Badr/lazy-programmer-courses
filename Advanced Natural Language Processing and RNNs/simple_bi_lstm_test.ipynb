{
  "nbformat": 4,
  "nbformat_minor": 0,
  "metadata": {
    "colab": {
      "name": "simple_bi-lstm_test.ipynb",
      "provenance": [],
      "collapsed_sections": []
    },
    "kernelspec": {
      "name": "python3",
      "display_name": "Python 3"
    },
    "language_info": {
      "name": "python"
    }
  },
  "cells": [
    {
      "cell_type": "code",
      "execution_count": 1,
      "metadata": {
        "id": "IacOstiXt16_"
      },
      "outputs": [],
      "source": [
        "from keras.models import Model\n",
        "from keras.layers import Input, LSTM, GRU, Bidirectional\n",
        "import numpy as np\n",
        "import matplotlib.pyplot as plt"
      ]
    },
    {
      "cell_type": "code",
      "source": [
        "T = 8   # sequence length \n",
        "D = 2   # input Dimensionality\n",
        "M = 3   # hidden layer size"
      ],
      "metadata": {
        "id": "QgiGrWl3t51h"
      },
      "execution_count": 2,
      "outputs": []
    },
    {
      "cell_type": "code",
      "source": [
        "# create one sample of size T * D\n",
        "X = np.random.randn(1, T, D)"
      ],
      "metadata": {
        "id": "dgmyV3SXt8KV"
      },
      "execution_count": 3,
      "outputs": []
    },
    {
      "cell_type": "code",
      "source": [
        "input_ = Input( shape=(T, D)  )\n",
        "rnn = Bidirectional(  LSTM(M, return_state=True, return_sequences=True)  )\n",
        "x = rnn(input_)\n",
        "\n",
        "model = Model(inputs=input_, outputs=x)\n",
        "# note that lstm has 2 states (hidden state, cell state) -- h1, c1 from forward lstm, h2, c2 from backword lstm\n",
        "o, h1, c1, h2, c2 = model.predict(X)\n",
        "print('output from lstm:', o, '  ---  output shape:', o.shape)    # 1 * T * 2M\n",
        "print('forward hiddin state:', h1, '  ---  hidden state shape:', h1.shape)  # 1 * M\n",
        "print('forward cell state:', c1, '  ---  cell state shape:', c1.shape)      # 1 * M\n",
        "print('backword hiddin state:', h2, '  ---  hidden state shape:', h2.shape)  # 1 * M\n",
        "print('backword cell state:', c2, '  ---  cell state shape:', c2.shape)      # 1 * M"
      ],
      "metadata": {
        "colab": {
          "base_uri": "https://localhost:8080/"
        },
        "id": "m0h858ZCt-W8",
        "outputId": "11df3be5-2ed9-4bca-82f2-bd7efac59103"
      },
      "execution_count": 4,
      "outputs": [
        {
          "output_type": "stream",
          "name": "stdout",
          "text": [
            "output from lstm: [[[ 0.04258734  0.15130472  0.01331816  0.31991935 -0.3730298\n",
            "   -0.03259775]\n",
            "  [-0.00428254 -0.02509887 -0.13672794  0.29221278 -0.3207906\n",
            "   -0.04598095]\n",
            "  [-0.08209699 -0.02682733  0.06260891  0.34330174 -0.23296334\n",
            "   -0.13083483]\n",
            "  [-0.06901787  0.25419256  0.24404024  0.40596908 -0.33208272\n",
            "   -0.1819582 ]\n",
            "  [-0.12552951  0.20061566  0.2875895   0.31951895 -0.27698463\n",
            "   -0.09738957]\n",
            "  [-0.14931042  0.27730513  0.34477323  0.31746566 -0.2732404\n",
            "   -0.10398293]\n",
            "  [-0.28796804  0.08555791  0.26965746  0.19363743 -0.1276341\n",
            "   -0.04575274]\n",
            "  [-0.23007351  0.36647925  0.3819121   0.24741736 -0.20233445\n",
            "   -0.12337017]]]   ---  output shape: (1, 8, 6)\n",
            "forward hiddin state: [[-0.23007351  0.36647925  0.3819121 ]]   ---  hidden state shape: (1, 3)\n",
            "forward cell state: [[-0.58609724  0.5796282   0.6491753 ]]   ---  cell state shape: (1, 3)\n",
            "backword hiddin state: [[ 0.31991935 -0.3730298  -0.03259775]]   ---  hidden state shape: (1, 3)\n",
            "backword cell state: [[ 0.728499   -0.62090206 -0.05046039]]   ---  cell state shape: (1, 3)\n"
          ]
        }
      ]
    },
    {
      "cell_type": "code",
      "source": [
        "input_ = Input( shape=(T, D)  )\n",
        "rnn = Bidirectional(  LSTM(M, return_state=True, return_sequences=False)  )\n",
        "x = rnn(input_)\n",
        "\n",
        "model = Model(inputs=input_, outputs=x)\n",
        "# note that lstm has 2 states (hidden state, cell state) -- h1, c1 from forward lstm, h2, c2 from backword lstm\n",
        "o, h1, c1, h2, c2 = model.predict(X)\n",
        "print('output from lstm:', o, '  ---  output shape:', o.shape)    # 1 * 2M\n",
        "print('forward hiddin state:', h1, '  ---  hidden state shape:', h1.shape)  # 1 * M\n",
        "print('forward cell state:', c1, '  ---  cell state shape:', c1.shape)      # 1 * M\n",
        "print('backword hiddin state:', h2, '  ---  hidden state shape:', h2.shape)  # 1 * M\n",
        "print('backword cell state:', c2, '  ---  cell state shape:', c2.shape)      # 1 * M"
      ],
      "metadata": {
        "colab": {
          "base_uri": "https://localhost:8080/"
        },
        "id": "CIPYTmAdvd-h",
        "outputId": "d77af58f-ef09-451b-edc9-020f61398ef9"
      },
      "execution_count": 5,
      "outputs": [
        {
          "output_type": "stream",
          "name": "stdout",
          "text": [
            "output from lstm: [[ 0.075334   -0.18948764 -0.08429716 -0.07475023 -0.2367503  -0.00288732]]   ---  output shape: (1, 6)\n",
            "forward hiddin state: [[ 0.075334   -0.18948764 -0.08429716]]   ---  hidden state shape: (1, 3)\n",
            "forward cell state: [[ 0.25741184 -0.76566046 -0.27715018]]   ---  cell state shape: (1, 3)\n",
            "backword hiddin state: [[-0.07475023 -0.2367503  -0.00288732]]   ---  hidden state shape: (1, 3)\n",
            "backword cell state: [[-0.22220907 -0.4074536  -0.00542328]]   ---  cell state shape: (1, 3)\n"
          ]
        }
      ]
    },
    {
      "cell_type": "code",
      "source": [
        ""
      ],
      "metadata": {
        "id": "E67CpLZAwQP4"
      },
      "execution_count": null,
      "outputs": []
    }
  ]
}