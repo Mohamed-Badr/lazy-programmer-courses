{
  "nbformat": 4,
  "nbformat_minor": 0,
  "metadata": {
    "colab": {
      "name": "Bi-LSTM_mnist.ipynb",
      "provenance": [],
      "collapsed_sections": []
    },
    "kernelspec": {
      "name": "python3",
      "display_name": "Python 3"
    },
    "language_info": {
      "name": "python"
    },
    "accelerator": "GPU",
    "gpuClass": "standard"
  },
  "cells": [
    {
      "cell_type": "code",
      "execution_count": 2,
      "metadata": {
        "id": "AuRT7aBJ1i1V"
      },
      "outputs": [],
      "source": [
        "# some imports \n",
        "import os \n",
        "from tensorflow.keras.models import Model\n",
        "from tensorflow.keras.layers import Input, LSTM, GRU, Bidirectional, GlobalMaxPooling1D, Lambda, Concatenate, Dense\n",
        "import tensorflow.keras.backend as K\n",
        "import numpy as np\n",
        "import pandas as pd\n",
        "import matplotlib.pyplot as plt"
      ]
    },
    {
      "cell_type": "code",
      "source": [
        "# mount this notebook to your drive\n",
        "from google.colab import drive\n",
        "drive.mount('/content/gdrive')\n",
        "\n",
        "import os \n",
        "os.environ['KAGGLE_CONFIG_DIR'] = '/content/gdrive/MyDrive/kaggle_dataset'\n",
        "\n",
        "\n",
        "path = '/content/gdrive/MyDrive/kaggle_dataset/mnist'\n",
        "if not os.path.exists(path):\n",
        "    os.makedirs(path)\n",
        "\n",
        "%cd /content/gdrive/MyDrive/kaggle_dataset/mnist"
      ],
      "metadata": {
        "colab": {
          "base_uri": "https://localhost:8080/"
        },
        "id": "8JeYkw0j2iEq",
        "outputId": "f336ca05-0088-452a-c245-0e44cd93e4c5"
      },
      "execution_count": 4,
      "outputs": [
        {
          "output_type": "stream",
          "name": "stdout",
          "text": [
            "Mounted at /content/gdrive\n",
            "/content/gdrive/MyDrive/kaggle_dataset/mnist\n"
          ]
        }
      ]
    },
    {
      "cell_type": "code",
      "source": [
        "# load mnist dataset to drive\n",
        "# if the data does not exist or want to replace it\n",
        "\n",
        "#!kaggle competitions download -c digit-recognizer\n",
        "#!unzip digit-recognizer.zip"
      ],
      "metadata": {
        "colab": {
          "base_uri": "https://localhost:8080/"
        },
        "id": "6sDi8i_43aOx",
        "outputId": "ec9eab1d-1800-4af6-8d52-ab037f0fa602"
      },
      "execution_count": 13,
      "outputs": [
        {
          "output_type": "stream",
          "name": "stdout",
          "text": [
            "digit-recognizer.zip: Skipping, found more recently modified local copy (use --force to force download)\n",
            "Archive:  digit-recognizer.zip\n",
            "replace sample_submission.csv? [y]es, [n]o, [A]ll, [N]one, [r]ename: y\n",
            "  inflating: sample_submission.csv   \n",
            "replace test.csv? [y]es, [n]o, [A]ll, [N]one, [r]ename: y\n",
            "  inflating: test.csv                \n",
            "replace train.csv? [y]es, [n]o, [A]ll, [N]one, [r]ename: y\n",
            "  inflating: train.csv               \n"
          ]
        }
      ]
    },
    {
      "cell_type": "code",
      "source": [
        "def mnist_imgs():\n",
        "  print('Reading and Transforming data...')\n",
        "  df = pd.read_csv('train.csv')  \n",
        "  data = df.values # convert to numpy matrix == df.to_numpy()\n",
        "  np.random.shuffle(data)\n",
        "  X = data[:, 1:].reshape(-1, 28, 28) / 255.0 # first col is the label\n",
        "  Y = data[:, 0]\n",
        "  return X, Y"
      ],
      "metadata": {
        "id": "-eLPKF_17C1I"
      },
      "execution_count": 21,
      "outputs": []
    },
    {
      "cell_type": "code",
      "source": [
        "X, Y = mnist_imgs()\n",
        "print(\"shape of X:\", X.shape)\n",
        "print(\"shape of Y:\", Y.shape)"
      ],
      "metadata": {
        "colab": {
          "base_uri": "https://localhost:8080/"
        },
        "id": "iLgqWTT08JCS",
        "outputId": "7d834a9d-1b46-4fb7-f2aa-e5846319f279"
      },
      "execution_count": 22,
      "outputs": [
        {
          "output_type": "stream",
          "name": "stdout",
          "text": [
            "Reading and Transforming data...\n",
            "shape of X: (42000, 28, 28)\n",
            "shape of Y: (42000,)\n"
          ]
        }
      ]
    },
    {
      "cell_type": "code",
      "source": [
        "D = 28   # input Dimensionality\n",
        "M = 15   # hidden layer size"
      ],
      "metadata": {
        "id": "tGc-It3n8s-8"
      },
      "execution_count": 28,
      "outputs": []
    },
    {
      "cell_type": "code",
      "source": [
        "# input is an image of size 28*28\n",
        "input_ = Input(   shape=(D, D)  )\n",
        "\n",
        "# up-down\n",
        "rnn1 = Bidirectional(   LSTM(M, return_sequences=True)  ) # get back all hidden states\n",
        "x1 = rnn1(input_)               # output is N * D * 2M\n",
        "x1 = GlobalMaxPooling1D()(x1)   # output is N * 2M"
      ],
      "metadata": {
        "id": "Nw1Pmm1cBHSz"
      },
      "execution_count": 29,
      "outputs": []
    },
    {
      "cell_type": "code",
      "source": [
        "# left-right\n",
        "rnn2 = Bidirectional(   LSTM(M, return_sequences=True)  )\n",
        "\n",
        "# now, we need to transpose the image, so height becomes width and width becomes height\n",
        "# custom layer\n",
        "permutor = Lambda(lambda t: K.permute_dimensions(t, pattern=(0, 2, 1)))\n",
        "\n",
        "x2 = permutor(input_)\n",
        "x2 = rnn2(x2)                   # output is N * D * 2M\n",
        "x2 = GlobalMaxPooling1D()(x2)   # output is N * 2M"
      ],
      "metadata": {
        "id": "-uuAzsqp-LhQ"
      },
      "execution_count": 30,
      "outputs": []
    },
    {
      "cell_type": "code",
      "source": [
        "# put them together\n",
        "conactenate = Concatenate(axis=1)\n",
        "x = conactenate([x1, x2])         # output is N * 4M\n",
        "\n",
        "# finel dense layer\n",
        "output = Dense(10, activation='softmax')(x)\n",
        "model = Model(inputs=input_, outputs=output)"
      ],
      "metadata": {
        "id": "uym4b0INBKlL"
      },
      "execution_count": 31,
      "outputs": []
    },
    {
      "cell_type": "code",
      "source": [
        "# testing\n",
        "# o = model.predict(X)\n",
        "# print(\"o.shape:\", o.shape)\n",
        "\n",
        "model.compile(loss='sparse_categorical_crossentropy', optimizer='adam', metrics=['accuracy'])\n",
        "print('Training Model...')\n",
        "h = model.fit(X, Y, batch_size=32, epochs=10, validation_split=0.3)"
      ],
      "metadata": {
        "colab": {
          "base_uri": "https://localhost:8080/"
        },
        "id": "9gAtG0A2BzAu",
        "outputId": "31d61c47-5d82-4fb9-dba0-c796e02b1bbd"
      },
      "execution_count": 32,
      "outputs": [
        {
          "output_type": "stream",
          "name": "stdout",
          "text": [
            "Training Model...\n",
            "Epoch 1/10\n",
            "919/919 [==============================] - 24s 15ms/step - loss: 0.7843 - accuracy: 0.8071 - val_loss: 0.3067 - val_accuracy: 0.9171\n",
            "Epoch 2/10\n",
            "919/919 [==============================] - 15s 17ms/step - loss: 0.2551 - accuracy: 0.9305 - val_loss: 0.2107 - val_accuracy: 0.9373\n",
            "Epoch 3/10\n",
            "919/919 [==============================] - 15s 16ms/step - loss: 0.1862 - accuracy: 0.9464 - val_loss: 0.1707 - val_accuracy: 0.9471\n",
            "Epoch 4/10\n",
            "919/919 [==============================] - 13s 14ms/step - loss: 0.1503 - accuracy: 0.9576 - val_loss: 0.1465 - val_accuracy: 0.9567\n",
            "Epoch 5/10\n",
            "919/919 [==============================] - 13s 14ms/step - loss: 0.1296 - accuracy: 0.9620 - val_loss: 0.1319 - val_accuracy: 0.9609\n",
            "Epoch 6/10\n",
            "919/919 [==============================] - 13s 14ms/step - loss: 0.1113 - accuracy: 0.9666 - val_loss: 0.1140 - val_accuracy: 0.9660\n",
            "Epoch 7/10\n",
            "919/919 [==============================] - 13s 14ms/step - loss: 0.1026 - accuracy: 0.9692 - val_loss: 0.1117 - val_accuracy: 0.9647\n",
            "Epoch 8/10\n",
            "919/919 [==============================] - 12s 14ms/step - loss: 0.0903 - accuracy: 0.9729 - val_loss: 0.1067 - val_accuracy: 0.9677\n",
            "Epoch 9/10\n",
            "919/919 [==============================] - 12s 14ms/step - loss: 0.0828 - accuracy: 0.9762 - val_loss: 0.0920 - val_accuracy: 0.9702\n",
            "Epoch 10/10\n",
            "919/919 [==============================] - 12s 14ms/step - loss: 0.0752 - accuracy: 0.9778 - val_loss: 0.0935 - val_accuracy: 0.9711\n"
          ]
        }
      ]
    },
    {
      "cell_type": "code",
      "source": [
        "plt.plot(h.history['loss'] ,label='loss')\n",
        "plt.plot(h.history['val_loss'], label='val_loss')\n",
        "plt.legend()\n",
        "plt.show()"
      ],
      "metadata": {
        "colab": {
          "base_uri": "https://localhost:8080/",
          "height": 265
        },
        "id": "InkbrLA6CspR",
        "outputId": "0f546c1e-e3a3-4508-a4f5-872f7985d69a"
      },
      "execution_count": 33,
      "outputs": [
        {
          "output_type": "display_data",
          "data": {
            "text/plain": [
              "<Figure size 432x288 with 1 Axes>"
            ],
            "image/png": "[encoded data removed]"
          },
          "metadata": {
            "needs_background": "light"
          }
        }
      ]
    },
    {
      "cell_type": "code",
      "source": [
        "plt.plot(h.history['accuracy'] ,label='acc')\n",
        "plt.plot(h.history['val_accuracy'], label='val_acc')\n",
        "plt.legend()\n",
        "plt.show()"
      ],
      "metadata": {
        "colab": {
          "base_uri": "https://localhost:8080/",
          "height": 265
        },
        "id": "audqmRG4C7QQ",
        "outputId": "854426e6-0d08-4d8d-ab80-2ff62127f92a"
      },
      "execution_count": 34,
      "outputs": [
        {
          "output_type": "display_data",
          "data": {
            "text/plain": [
              "<Figure size 432x288 with 1 Axes>"
            ],
            "image/png": "[encoded data removed]"
          },
          "metadata": {
            "needs_background": "light"
          }
        }
      ]
    },
    {
      "cell_type": "code",
      "source": [
        ""
      ],
      "metadata": {
        "id": "7ViKQ1-xC_Py"
      },
      "execution_count": null,
      "outputs": []
    }
  ]
}